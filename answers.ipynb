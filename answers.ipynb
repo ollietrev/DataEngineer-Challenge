{
 "cells": [
  {
   "cell_type": "markdown",
   "metadata": {},
   "source": [
    "# Eli Lilly Data Engineer Task\n",
    "\n",
    "1. Create a query that calculates the average number of goals per game between 1900 and 2000.\n",
    "2. Create a query that counts the number of shootouts wins by country and arrange in alphabetical order.\n",
    "3. Create a reliable key that allows the joining together of goal scorers, results, and shootouts.\n",
    "4. Create a query that identifies which teams have won a penalty shootout after a 1-1 draw.\n",
    "5. Create a query that identifies the top goal scorer by tournament, and what percentage that equates to for all goals scored in the tournament.\n",
    "\n",
    "6. Create an additional column that flags records with data quality issues.\n",
    "7. Resolve the identified quality issues."
   ]
  },
  {
   "cell_type": "markdown",
   "metadata": {},
   "source": [
    "Start by importing the csv files using Pandas."
   ]
  },
  {
   "cell_type": "code",
   "execution_count": 303,
   "metadata": {},
   "outputs": [],
   "source": [
    "import pandas as pd\n",
    "import numpy as np\n",
    "\n",
    "goalscorers_df = pd.read_csv('goalscorers.csv')\n",
    "results_df = pd.read_csv('results.csv')\n",
    "shootouts_df = pd.read_csv('shootouts.csv')"
   ]
  },
  {
   "cell_type": "markdown",
   "metadata": {},
   "source": [
    "## Task 1\n",
    "\n",
    "The results.csv file contains data on number of goals per game in each year."
   ]
  },
  {
   "cell_type": "code",
   "execution_count": 304,
   "metadata": {},
   "outputs": [
    {
     "data": {
      "text/html": [
       "<div>\n",
       "<style scoped>\n",
       "    .dataframe tbody tr th:only-of-type {\n",
       "        vertical-align: middle;\n",
       "    }\n",
       "\n",
       "    .dataframe tbody tr th {\n",
       "        vertical-align: top;\n",
       "    }\n",
       "\n",
       "    .dataframe thead th {\n",
       "        text-align: right;\n",
       "    }\n",
       "</style>\n",
       "<table border=\"1\" class=\"dataframe\">\n",
       "  <thead>\n",
       "    <tr style=\"text-align: right;\">\n",
       "      <th></th>\n",
       "      <th>date</th>\n",
       "      <th>home_team</th>\n",
       "      <th>away_team</th>\n",
       "      <th>home_score</th>\n",
       "      <th>away_score</th>\n",
       "      <th>tournament</th>\n",
       "      <th>city</th>\n",
       "      <th>country</th>\n",
       "      <th>neutral</th>\n",
       "    </tr>\n",
       "  </thead>\n",
       "  <tbody>\n",
       "    <tr>\n",
       "      <th>0</th>\n",
       "      <td>1872-11-30</td>\n",
       "      <td>Scotland</td>\n",
       "      <td>England</td>\n",
       "      <td>0</td>\n",
       "      <td>0</td>\n",
       "      <td>Friendly</td>\n",
       "      <td>Glasgow</td>\n",
       "      <td>Scotland</td>\n",
       "      <td>False</td>\n",
       "    </tr>\n",
       "    <tr>\n",
       "      <th>1</th>\n",
       "      <td>1873-03-08</td>\n",
       "      <td>England</td>\n",
       "      <td>Scotland</td>\n",
       "      <td>4</td>\n",
       "      <td>2</td>\n",
       "      <td>Friendly</td>\n",
       "      <td>London</td>\n",
       "      <td>England</td>\n",
       "      <td>False</td>\n",
       "    </tr>\n",
       "    <tr>\n",
       "      <th>2</th>\n",
       "      <td>1874-03-07</td>\n",
       "      <td>Scotland</td>\n",
       "      <td>England</td>\n",
       "      <td>2</td>\n",
       "      <td>1</td>\n",
       "      <td>Friendly</td>\n",
       "      <td>Glasgow</td>\n",
       "      <td>Scotland</td>\n",
       "      <td>False</td>\n",
       "    </tr>\n",
       "    <tr>\n",
       "      <th>3</th>\n",
       "      <td>1875-03-06</td>\n",
       "      <td>England</td>\n",
       "      <td>Scotland</td>\n",
       "      <td>2</td>\n",
       "      <td>2</td>\n",
       "      <td>Friendly</td>\n",
       "      <td>London</td>\n",
       "      <td>England</td>\n",
       "      <td>False</td>\n",
       "    </tr>\n",
       "    <tr>\n",
       "      <th>4</th>\n",
       "      <td>1876-03-04</td>\n",
       "      <td>Scotland</td>\n",
       "      <td>England</td>\n",
       "      <td>3</td>\n",
       "      <td>0</td>\n",
       "      <td>Friendly</td>\n",
       "      <td>Glasgow</td>\n",
       "      <td>Scotland</td>\n",
       "      <td>False</td>\n",
       "    </tr>\n",
       "  </tbody>\n",
       "</table>\n",
       "</div>"
      ],
      "text/plain": [
       "         date home_team away_team  home_score  away_score tournament     city  \\\n",
       "0  1872-11-30  Scotland   England           0           0   Friendly  Glasgow   \n",
       "1  1873-03-08   England  Scotland           4           2   Friendly   London   \n",
       "2  1874-03-07  Scotland   England           2           1   Friendly  Glasgow   \n",
       "3  1875-03-06   England  Scotland           2           2   Friendly   London   \n",
       "4  1876-03-04  Scotland   England           3           0   Friendly  Glasgow   \n",
       "\n",
       "    country  neutral  \n",
       "0  Scotland    False  \n",
       "1   England    False  \n",
       "2  Scotland    False  \n",
       "3   England    False  \n",
       "4  Scotland    False  "
      ]
     },
     "execution_count": 304,
     "metadata": {},
     "output_type": "execute_result"
    }
   ],
   "source": [
    "results_df.head(5)"
   ]
  },
  {
   "cell_type": "code",
   "execution_count": 305,
   "metadata": {},
   "outputs": [
    {
     "data": {
      "text/plain": [
       "date          object\n",
       "home_team     object\n",
       "away_team     object\n",
       "home_score     int64\n",
       "away_score     int64\n",
       "tournament    object\n",
       "city          object\n",
       "country       object\n",
       "neutral         bool\n",
       "dtype: object"
      ]
     },
     "execution_count": 305,
     "metadata": {},
     "output_type": "execute_result"
    }
   ],
   "source": [
    "results_df.dtypes"
   ]
  },
  {
   "cell_type": "markdown",
   "metadata": {},
   "source": [
    "We see how data is an object, would be best to convert to datetime format so we can extract the year."
   ]
  },
  {
   "cell_type": "code",
   "execution_count": 306,
   "metadata": {},
   "outputs": [],
   "source": [
    "results_df['date'] = pd.to_datetime(results_df['date'])"
   ]
  },
  {
   "cell_type": "markdown",
   "metadata": {},
   "source": [
    "We now filter the results where the game was played between 1900 and 2000."
   ]
  },
  {
   "cell_type": "code",
   "execution_count": 307,
   "metadata": {},
   "outputs": [],
   "source": [
    "filtered_results = results_df[(results_df['date'].dt.year >= 1900) & (results_df['date'].dt.year < 2000)]"
   ]
  },
  {
   "cell_type": "markdown",
   "metadata": {},
   "source": [
    "We sum all the home goals and away goals to find the total goals scored per game."
   ]
  },
  {
   "cell_type": "code",
   "execution_count": 308,
   "metadata": {},
   "outputs": [],
   "source": [
    "total_goals = filtered_results['home_score'].sum() + filtered_results['away_score'].sum()"
   ]
  },
  {
   "cell_type": "markdown",
   "metadata": {},
   "source": [
    "We now find how many games were played between these years, in order to find the average number of goals per game."
   ]
  },
  {
   "cell_type": "code",
   "execution_count": 309,
   "metadata": {},
   "outputs": [
    {
     "data": {
      "text/plain": [
       "3.0824074074074073"
      ]
     },
     "execution_count": 309,
     "metadata": {},
     "output_type": "execute_result"
    }
   ],
   "source": [
    "number_games = len(filtered_results)\n",
    "\n",
    "average_goals = total_goals / number_games\n",
    "\n",
    "average_goals"
   ]
  },
  {
   "cell_type": "markdown",
   "metadata": {},
   "source": [
    "## Task 2"
   ]
  },
  {
   "cell_type": "markdown",
   "metadata": {},
   "source": [
    "The shootouts_df DataFrame contains the results of all the penalty shootouts."
   ]
  },
  {
   "cell_type": "code",
   "execution_count": 310,
   "metadata": {},
   "outputs": [
    {
     "data": {
      "text/html": [
       "<div>\n",
       "<style scoped>\n",
       "    .dataframe tbody tr th:only-of-type {\n",
       "        vertical-align: middle;\n",
       "    }\n",
       "\n",
       "    .dataframe tbody tr th {\n",
       "        vertical-align: top;\n",
       "    }\n",
       "\n",
       "    .dataframe thead th {\n",
       "        text-align: right;\n",
       "    }\n",
       "</style>\n",
       "<table border=\"1\" class=\"dataframe\">\n",
       "  <thead>\n",
       "    <tr style=\"text-align: right;\">\n",
       "      <th></th>\n",
       "      <th>date</th>\n",
       "      <th>home_team</th>\n",
       "      <th>away_team</th>\n",
       "      <th>winner</th>\n",
       "      <th>first_shooter</th>\n",
       "    </tr>\n",
       "  </thead>\n",
       "  <tbody>\n",
       "    <tr>\n",
       "      <th>0</th>\n",
       "      <td>1967-08-22</td>\n",
       "      <td>India</td>\n",
       "      <td>Taiwan</td>\n",
       "      <td>Taiwan</td>\n",
       "      <td>NaN</td>\n",
       "    </tr>\n",
       "    <tr>\n",
       "      <th>1</th>\n",
       "      <td>1971-11-14</td>\n",
       "      <td>South Korea</td>\n",
       "      <td>Vietnam Republic</td>\n",
       "      <td>South Korea</td>\n",
       "      <td>NaN</td>\n",
       "    </tr>\n",
       "    <tr>\n",
       "      <th>2</th>\n",
       "      <td>1972-05-07</td>\n",
       "      <td>South Korea</td>\n",
       "      <td>Iraq</td>\n",
       "      <td>Iraq</td>\n",
       "      <td>NaN</td>\n",
       "    </tr>\n",
       "    <tr>\n",
       "      <th>3</th>\n",
       "      <td>1972-05-17</td>\n",
       "      <td>Thailand</td>\n",
       "      <td>South Korea</td>\n",
       "      <td>South Korea</td>\n",
       "      <td>NaN</td>\n",
       "    </tr>\n",
       "    <tr>\n",
       "      <th>4</th>\n",
       "      <td>1972-05-19</td>\n",
       "      <td>Thailand</td>\n",
       "      <td>Cambodia</td>\n",
       "      <td>Thailand</td>\n",
       "      <td>NaN</td>\n",
       "    </tr>\n",
       "  </tbody>\n",
       "</table>\n",
       "</div>"
      ],
      "text/plain": [
       "         date    home_team         away_team       winner first_shooter\n",
       "0  1967-08-22        India            Taiwan       Taiwan           NaN\n",
       "1  1971-11-14  South Korea  Vietnam Republic  South Korea           NaN\n",
       "2  1972-05-07  South Korea              Iraq         Iraq           NaN\n",
       "3  1972-05-17     Thailand       South Korea  South Korea           NaN\n",
       "4  1972-05-19     Thailand          Cambodia     Thailand           NaN"
      ]
     },
     "execution_count": 310,
     "metadata": {},
     "output_type": "execute_result"
    }
   ],
   "source": [
    "shootouts_df.head(5)"
   ]
  },
  {
   "cell_type": "markdown",
   "metadata": {},
   "source": [
    "We can group by each winning team and find the number of times this team appears as a winner using .size(). .sort_index() sorts  by alphabetical order. We then turn this into a pandas DataFrame and rename the column to count."
   ]
  },
  {
   "cell_type": "code",
   "execution_count": 311,
   "metadata": {},
   "outputs": [
    {
     "data": {
      "text/html": [
       "<div>\n",
       "<style scoped>\n",
       "    .dataframe tbody tr th:only-of-type {\n",
       "        vertical-align: middle;\n",
       "    }\n",
       "\n",
       "    .dataframe tbody tr th {\n",
       "        vertical-align: top;\n",
       "    }\n",
       "\n",
       "    .dataframe thead th {\n",
       "        text-align: right;\n",
       "    }\n",
       "</style>\n",
       "<table border=\"1\" class=\"dataframe\">\n",
       "  <thead>\n",
       "    <tr style=\"text-align: right;\">\n",
       "      <th></th>\n",
       "      <th>count</th>\n",
       "    </tr>\n",
       "    <tr>\n",
       "      <th>winner</th>\n",
       "      <th></th>\n",
       "    </tr>\n",
       "  </thead>\n",
       "  <tbody>\n",
       "    <tr>\n",
       "      <th>Abkhazia</th>\n",
       "      <td>2</td>\n",
       "    </tr>\n",
       "    <tr>\n",
       "      <th>Algeria</th>\n",
       "      <td>7</td>\n",
       "    </tr>\n",
       "    <tr>\n",
       "      <th>Angola</th>\n",
       "      <td>7</td>\n",
       "    </tr>\n",
       "    <tr>\n",
       "      <th>Antigua and Barbuda</th>\n",
       "      <td>2</td>\n",
       "    </tr>\n",
       "    <tr>\n",
       "      <th>Argentina</th>\n",
       "      <td>14</td>\n",
       "    </tr>\n",
       "    <tr>\n",
       "      <th>...</th>\n",
       "      <td>...</td>\n",
       "    </tr>\n",
       "    <tr>\n",
       "      <th>Zambia</th>\n",
       "      <td>13</td>\n",
       "    </tr>\n",
       "    <tr>\n",
       "      <th>Zanzibar</th>\n",
       "      <td>2</td>\n",
       "    </tr>\n",
       "    <tr>\n",
       "      <th>Zimbabwe</th>\n",
       "      <td>7</td>\n",
       "    </tr>\n",
       "    <tr>\n",
       "      <th>Åland</th>\n",
       "      <td>1</td>\n",
       "    </tr>\n",
       "    <tr>\n",
       "      <th>Åland Islands</th>\n",
       "      <td>2</td>\n",
       "    </tr>\n",
       "  </tbody>\n",
       "</table>\n",
       "<p>163 rows × 1 columns</p>\n",
       "</div>"
      ],
      "text/plain": [
       "                     count\n",
       "winner                    \n",
       "Abkhazia                 2\n",
       "Algeria                  7\n",
       "Angola                   7\n",
       "Antigua and Barbuda      2\n",
       "Argentina               14\n",
       "...                    ...\n",
       "Zambia                  13\n",
       "Zanzibar                 2\n",
       "Zimbabwe                 7\n",
       "Åland                    1\n",
       "Åland Islands            2\n",
       "\n",
       "[163 rows x 1 columns]"
      ]
     },
     "execution_count": 311,
     "metadata": {},
     "output_type": "execute_result"
    }
   ],
   "source": [
    "penalty_winner = pd.DataFrame(shootouts_df.groupby('winner').size().sort_index())\n",
    "penalty_winner = penalty_winner.rename(columns={0: 'count'})\n",
    "\n",
    "penalty_winner"
   ]
  },
  {
   "cell_type": "markdown",
   "metadata": {},
   "source": [
    "## Task 3"
   ]
  },
  {
   "cell_type": "markdown",
   "metadata": {},
   "source": [
    "We start by identifying common columns in each dataset."
   ]
  },
  {
   "cell_type": "code",
   "execution_count": 312,
   "metadata": {},
   "outputs": [
    {
     "data": {
      "text/plain": [
       "(Index(['date', 'home_team', 'away_team', 'winner', 'first_shooter'], dtype='object'),\n",
       " Index(['date', 'home_team', 'away_team', 'home_score', 'away_score',\n",
       "        'tournament', 'city', 'country', 'neutral'],\n",
       "       dtype='object'),\n",
       " Index(['date', 'home_team', 'away_team', 'team', 'scorer', 'minute',\n",
       "        'own_goal', 'penalty'],\n",
       "       dtype='object'))"
      ]
     },
     "execution_count": 312,
     "metadata": {},
     "output_type": "execute_result"
    }
   ],
   "source": [
    "shootouts_df.columns, results_df.columns, goalscorers_df.columns"
   ]
  },
  {
   "cell_type": "markdown",
   "metadata": {},
   "source": [
    "'date', 'home_team', and 'away_team' are common to all datasets, allowing us to map each game uniquely. We can create composite keys with these columns."
   ]
  },
  {
   "cell_type": "code",
   "execution_count": 313,
   "metadata": {},
   "outputs": [],
   "source": [
    "shootouts_df['match_key'] = (\n",
    "    shootouts_df['date'].astype(str) + \"_\" + shootouts_df['home_team'] + \"_\" + shootouts_df['away_team']\n",
    ")\n",
    "results_df['match_key'] = (\n",
    "    results_df['date'].astype(str) + \"_\" + results_df['home_team'] + \"_\" + results_df['away_team']\n",
    ")\n",
    "goalscorers_df['match_key'] = (\n",
    "    goalscorers_df['date'].astype(str) + \"_\" + goalscorers_df['home_team'] + \"_\" + goalscorers_df['away_team']\n",
    ")"
   ]
  },
  {
   "cell_type": "markdown",
   "metadata": {},
   "source": [
    "## Task 4"
   ]
  },
  {
   "cell_type": "markdown",
   "metadata": {},
   "source": [
    "We want to merge the shootouts dataset with the results dataset and find all the games where the #away goals = #home goals = 1. We use an inner join rather than a left join because there appears to be data for a shootout that doesnt appear in the results table."
   ]
  },
  {
   "cell_type": "code",
   "execution_count": 314,
   "metadata": {},
   "outputs": [
    {
     "data": {
      "text/html": [
       "<div>\n",
       "<style scoped>\n",
       "    .dataframe tbody tr th:only-of-type {\n",
       "        vertical-align: middle;\n",
       "    }\n",
       "\n",
       "    .dataframe tbody tr th {\n",
       "        vertical-align: top;\n",
       "    }\n",
       "\n",
       "    .dataframe thead th {\n",
       "        text-align: right;\n",
       "    }\n",
       "</style>\n",
       "<table border=\"1\" class=\"dataframe\">\n",
       "  <thead>\n",
       "    <tr style=\"text-align: right;\">\n",
       "      <th></th>\n",
       "      <th>date_x</th>\n",
       "      <th>home_team_x</th>\n",
       "      <th>away_team_x</th>\n",
       "      <th>winner</th>\n",
       "      <th>first_shooter</th>\n",
       "      <th>match_key</th>\n",
       "      <th>date_y</th>\n",
       "      <th>home_team_y</th>\n",
       "      <th>away_team_y</th>\n",
       "      <th>home_score</th>\n",
       "      <th>away_score</th>\n",
       "      <th>tournament</th>\n",
       "      <th>city</th>\n",
       "      <th>country</th>\n",
       "      <th>neutral</th>\n",
       "    </tr>\n",
       "  </thead>\n",
       "  <tbody>\n",
       "    <tr>\n",
       "      <th>378</th>\n",
       "      <td>2011-06-29</td>\n",
       "      <td>Saare County</td>\n",
       "      <td>Åland Islands</td>\n",
       "      <td>Åland Islands</td>\n",
       "      <td>NaN</td>\n",
       "      <td>2011-06-29_Saare County_Åland Islands</td>\n",
       "      <td>NaT</td>\n",
       "      <td>NaN</td>\n",
       "      <td>NaN</td>\n",
       "      <td>NaN</td>\n",
       "      <td>NaN</td>\n",
       "      <td>NaN</td>\n",
       "      <td>NaN</td>\n",
       "      <td>NaN</td>\n",
       "      <td>NaN</td>\n",
       "    </tr>\n",
       "  </tbody>\n",
       "</table>\n",
       "</div>"
      ],
      "text/plain": [
       "         date_x   home_team_x    away_team_x         winner first_shooter  \\\n",
       "378  2011-06-29  Saare County  Åland Islands  Åland Islands           NaN   \n",
       "\n",
       "                                 match_key date_y home_team_y away_team_y  \\\n",
       "378  2011-06-29_Saare County_Åland Islands    NaT         NaN         NaN   \n",
       "\n",
       "     home_score  away_score tournament city country neutral  \n",
       "378         NaN         NaN        NaN  NaN     NaN     NaN  "
      ]
     },
     "execution_count": 314,
     "metadata": {},
     "output_type": "execute_result"
    }
   ],
   "source": [
    "merged_data = shootouts_df.merge(results_df, on='match_key', how='inner')\n",
    "\n",
    "merged_data_left = shootouts_df.merge(results_df, on='match_key', how='left')\n",
    "\n",
    "difference = merged_data_left[~merged_data_left['match_key'].isin(merged_data['match_key'])]\n",
    "\n",
    "difference #Saare County vs Aland Islands 2011 match is not present in results.csv"
   ]
  },
  {
   "cell_type": "markdown",
   "metadata": {},
   "source": [
    "Filter by games where the home team scored just once, and the away team scored just once."
   ]
  },
  {
   "cell_type": "code",
   "execution_count": 315,
   "metadata": {},
   "outputs": [
    {
     "data": {
      "text/html": [
       "<div>\n",
       "<style scoped>\n",
       "    .dataframe tbody tr th:only-of-type {\n",
       "        vertical-align: middle;\n",
       "    }\n",
       "\n",
       "    .dataframe tbody tr th {\n",
       "        vertical-align: top;\n",
       "    }\n",
       "\n",
       "    .dataframe thead th {\n",
       "        text-align: right;\n",
       "    }\n",
       "</style>\n",
       "<table border=\"1\" class=\"dataframe\">\n",
       "  <thead>\n",
       "    <tr style=\"text-align: right;\">\n",
       "      <th></th>\n",
       "      <th>date_x</th>\n",
       "      <th>home_team_x</th>\n",
       "      <th>away_team_x</th>\n",
       "      <th>winner</th>\n",
       "      <th>first_shooter</th>\n",
       "      <th>match_key</th>\n",
       "      <th>date_y</th>\n",
       "      <th>home_team_y</th>\n",
       "      <th>away_team_y</th>\n",
       "      <th>home_score</th>\n",
       "      <th>away_score</th>\n",
       "      <th>tournament</th>\n",
       "      <th>city</th>\n",
       "      <th>country</th>\n",
       "      <th>neutral</th>\n",
       "    </tr>\n",
       "  </thead>\n",
       "  <tbody>\n",
       "    <tr>\n",
       "      <th>0</th>\n",
       "      <td>1967-08-22</td>\n",
       "      <td>India</td>\n",
       "      <td>Taiwan</td>\n",
       "      <td>Taiwan</td>\n",
       "      <td>NaN</td>\n",
       "      <td>1967-08-22_India_Taiwan</td>\n",
       "      <td>1967-08-22</td>\n",
       "      <td>India</td>\n",
       "      <td>Taiwan</td>\n",
       "      <td>1</td>\n",
       "      <td>1</td>\n",
       "      <td>Merdeka Tournament</td>\n",
       "      <td>Kuala Lumpur</td>\n",
       "      <td>Malaysia</td>\n",
       "      <td>True</td>\n",
       "    </tr>\n",
       "    <tr>\n",
       "      <th>1</th>\n",
       "      <td>1971-11-14</td>\n",
       "      <td>South Korea</td>\n",
       "      <td>Vietnam Republic</td>\n",
       "      <td>South Korea</td>\n",
       "      <td>NaN</td>\n",
       "      <td>1971-11-14_South Korea_Vietnam Republic</td>\n",
       "      <td>1971-11-14</td>\n",
       "      <td>South Korea</td>\n",
       "      <td>Vietnam Republic</td>\n",
       "      <td>1</td>\n",
       "      <td>1</td>\n",
       "      <td>King's Cup</td>\n",
       "      <td>Bangkok</td>\n",
       "      <td>Thailand</td>\n",
       "      <td>True</td>\n",
       "    </tr>\n",
       "    <tr>\n",
       "      <th>3</th>\n",
       "      <td>1972-05-17</td>\n",
       "      <td>Thailand</td>\n",
       "      <td>South Korea</td>\n",
       "      <td>South Korea</td>\n",
       "      <td>NaN</td>\n",
       "      <td>1972-05-17_Thailand_South Korea</td>\n",
       "      <td>1972-05-17</td>\n",
       "      <td>Thailand</td>\n",
       "      <td>South Korea</td>\n",
       "      <td>1</td>\n",
       "      <td>1</td>\n",
       "      <td>AFC Asian Cup</td>\n",
       "      <td>Bangkok</td>\n",
       "      <td>Thailand</td>\n",
       "      <td>False</td>\n",
       "    </tr>\n",
       "    <tr>\n",
       "      <th>6</th>\n",
       "      <td>1973-06-14</td>\n",
       "      <td>Guinea</td>\n",
       "      <td>Mali</td>\n",
       "      <td>Guinea</td>\n",
       "      <td>NaN</td>\n",
       "      <td>1973-06-14_Guinea_Mali</td>\n",
       "      <td>1973-06-14</td>\n",
       "      <td>Guinea</td>\n",
       "      <td>Mali</td>\n",
       "      <td>1</td>\n",
       "      <td>1</td>\n",
       "      <td>African Cup of Nations qualification</td>\n",
       "      <td>Conakry</td>\n",
       "      <td>Guinea</td>\n",
       "      <td>False</td>\n",
       "    </tr>\n",
       "    <tr>\n",
       "      <th>7</th>\n",
       "      <td>1973-06-14</td>\n",
       "      <td>Mauritius</td>\n",
       "      <td>Tanzania</td>\n",
       "      <td>Mauritius</td>\n",
       "      <td>NaN</td>\n",
       "      <td>1973-06-14_Mauritius_Tanzania</td>\n",
       "      <td>1973-06-14</td>\n",
       "      <td>Mauritius</td>\n",
       "      <td>Tanzania</td>\n",
       "      <td>1</td>\n",
       "      <td>1</td>\n",
       "      <td>African Cup of Nations qualification</td>\n",
       "      <td>Port Louis</td>\n",
       "      <td>Mauritius</td>\n",
       "      <td>False</td>\n",
       "    </tr>\n",
       "  </tbody>\n",
       "</table>\n",
       "</div>"
      ],
      "text/plain": [
       "       date_x  home_team_x       away_team_x       winner first_shooter  \\\n",
       "0  1967-08-22        India            Taiwan       Taiwan           NaN   \n",
       "1  1971-11-14  South Korea  Vietnam Republic  South Korea           NaN   \n",
       "3  1972-05-17     Thailand       South Korea  South Korea           NaN   \n",
       "6  1973-06-14       Guinea              Mali       Guinea           NaN   \n",
       "7  1973-06-14    Mauritius          Tanzania    Mauritius           NaN   \n",
       "\n",
       "                                 match_key     date_y  home_team_y  \\\n",
       "0                  1967-08-22_India_Taiwan 1967-08-22        India   \n",
       "1  1971-11-14_South Korea_Vietnam Republic 1971-11-14  South Korea   \n",
       "3          1972-05-17_Thailand_South Korea 1972-05-17     Thailand   \n",
       "6                   1973-06-14_Guinea_Mali 1973-06-14       Guinea   \n",
       "7            1973-06-14_Mauritius_Tanzania 1973-06-14    Mauritius   \n",
       "\n",
       "        away_team_y  home_score  away_score  \\\n",
       "0            Taiwan           1           1   \n",
       "1  Vietnam Republic           1           1   \n",
       "3       South Korea           1           1   \n",
       "6              Mali           1           1   \n",
       "7          Tanzania           1           1   \n",
       "\n",
       "                             tournament          city    country  neutral  \n",
       "0                    Merdeka Tournament  Kuala Lumpur   Malaysia     True  \n",
       "1                            King's Cup       Bangkok   Thailand     True  \n",
       "3                         AFC Asian Cup       Bangkok   Thailand    False  \n",
       "6  African Cup of Nations qualification       Conakry     Guinea    False  \n",
       "7  African Cup of Nations qualification    Port Louis  Mauritius    False  "
      ]
     },
     "execution_count": 315,
     "metadata": {},
     "output_type": "execute_result"
    }
   ],
   "source": [
    "filtered_results = merged_data[(merged_data['home_score'] == 1) & (merged_data['away_score'] == 1)]\n",
    "filtered_results.head()"
   ]
  },
  {
   "cell_type": "markdown",
   "metadata": {},
   "source": [
    "Look at just the winner column and count how many times this team appears."
   ]
  },
  {
   "cell_type": "code",
   "execution_count": 316,
   "metadata": {},
   "outputs": [
    {
     "data": {
      "text/plain": [
       "South Korea            7\n",
       "Uruguay                7\n",
       "Burkina Faso           6\n",
       "Argentina              6\n",
       "Mali                   5\n",
       "                      ..\n",
       "Antigua and Barbuda    1\n",
       "Zambia                 1\n",
       "Cuba                   1\n",
       "Sudan                  1\n",
       "Åland                  1\n",
       "Name: winner, Length: 115, dtype: int64"
      ]
     },
     "execution_count": 316,
     "metadata": {},
     "output_type": "execute_result"
    }
   ],
   "source": [
    "filtered_results['winner'].value_counts()"
   ]
  },
  {
   "cell_type": "markdown",
   "metadata": {},
   "source": [
    "## Task 5"
   ]
  },
  {
   "cell_type": "markdown",
   "metadata": {},
   "source": [
    "We start by merging the goalscorers data and the results data on the match key and by a left join. We then group by the tournament and scorer and calculate the size using .size()."
   ]
  },
  {
   "cell_type": "code",
   "execution_count": 317,
   "metadata": {},
   "outputs": [],
   "source": [
    "merged_data = goalscorers_df.merge(results_df, on='match_key', how='left')\n",
    "tournament_goalscorers = merged_data.groupby(['tournament', 'scorer']).size().reset_index(name='goals')"
   ]
  },
  {
   "cell_type": "markdown",
   "metadata": {},
   "source": [
    "The merged_data is used to work out the total number of goals per tournament. We did a left join with the goalscorers dataset, so every row corresponds to a goal."
   ]
  },
  {
   "cell_type": "code",
   "execution_count": 318,
   "metadata": {},
   "outputs": [],
   "source": [
    "total_goals_tournament = merged_data.groupby('tournament').size().reset_index(name='total_goals')"
   ]
  },
  {
   "cell_type": "markdown",
   "metadata": {},
   "source": [
    "We then merge these two datasets on the 'tournament' column to collect information on total goals and goals per player. The percentage is calculated and the top scorer is identified."
   ]
  },
  {
   "cell_type": "code",
   "execution_count": 319,
   "metadata": {},
   "outputs": [],
   "source": [
    "tournament_goals = tournament_goalscorers.merge(total_goals_tournament, on='tournament')\n",
    "\n",
    "tournament_goals['goal_percentage'] = (tournament_goals['goals'] / tournament_goals['total_goals']) * 100\n",
    "\n",
    "top_scorers = tournament_goals.loc[tournament_goals.groupby('tournament')['goals'].idxmax()]"
   ]
  },
  {
   "cell_type": "code",
   "execution_count": 320,
   "metadata": {},
   "outputs": [
    {
     "data": {
      "text/html": [
       "<div>\n",
       "<style scoped>\n",
       "    .dataframe tbody tr th:only-of-type {\n",
       "        vertical-align: middle;\n",
       "    }\n",
       "\n",
       "    .dataframe tbody tr th {\n",
       "        vertical-align: top;\n",
       "    }\n",
       "\n",
       "    .dataframe thead th {\n",
       "        text-align: right;\n",
       "    }\n",
       "</style>\n",
       "<table border=\"1\" class=\"dataframe\">\n",
       "  <thead>\n",
       "    <tr style=\"text-align: right;\">\n",
       "      <th></th>\n",
       "      <th>tournament</th>\n",
       "      <th>scorer</th>\n",
       "      <th>goals</th>\n",
       "      <th>total_goals</th>\n",
       "      <th>goal_percentage</th>\n",
       "    </tr>\n",
       "  </thead>\n",
       "  <tbody>\n",
       "    <tr>\n",
       "      <th>33</th>\n",
       "      <td>AFC Asian Cup</td>\n",
       "      <td>Ali Daei</td>\n",
       "      <td>14</td>\n",
       "      <td>989</td>\n",
       "      <td>1.415571</td>\n",
       "    </tr>\n",
       "    <tr>\n",
       "      <th>1314</th>\n",
       "      <td>African Cup of Nations</td>\n",
       "      <td>Samuel Eto'o</td>\n",
       "      <td>18</td>\n",
       "      <td>1767</td>\n",
       "      <td>1.018676</td>\n",
       "    </tr>\n",
       "    <tr>\n",
       "      <th>1601</th>\n",
       "      <td>Baltic Cup</td>\n",
       "      <td>Ēriks Pētersons</td>\n",
       "      <td>9</td>\n",
       "      <td>229</td>\n",
       "      <td>3.930131</td>\n",
       "    </tr>\n",
       "    <tr>\n",
       "      <th>1611</th>\n",
       "      <td>British Home Championship</td>\n",
       "      <td>Geoff Hurst</td>\n",
       "      <td>4</td>\n",
       "      <td>33</td>\n",
       "      <td>12.121212</td>\n",
       "    </tr>\n",
       "    <tr>\n",
       "      <th>1623</th>\n",
       "      <td>CONMEBOL–UEFA Cup of Champions</td>\n",
       "      <td>Claudio Caniggia</td>\n",
       "      <td>1</td>\n",
       "      <td>7</td>\n",
       "      <td>14.285714</td>\n",
       "    </tr>\n",
       "    <tr>\n",
       "      <th>1675</th>\n",
       "      <td>Confederations Cup</td>\n",
       "      <td>Cuauhtémoc Blanco</td>\n",
       "      <td>9</td>\n",
       "      <td>423</td>\n",
       "      <td>2.127660</td>\n",
       "    </tr>\n",
       "    <tr>\n",
       "      <th>2687</th>\n",
       "      <td>Copa América</td>\n",
       "      <td>Norberto Doroteo Méndez</td>\n",
       "      <td>17</td>\n",
       "      <td>2671</td>\n",
       "      <td>0.636466</td>\n",
       "    </tr>\n",
       "    <tr>\n",
       "      <th>3932</th>\n",
       "      <td>FIFA World Cup</td>\n",
       "      <td>Miroslav Klose</td>\n",
       "      <td>16</td>\n",
       "      <td>2720</td>\n",
       "      <td>0.588235</td>\n",
       "    </tr>\n",
       "    <tr>\n",
       "      <th>5891</th>\n",
       "      <td>FIFA World Cup qualification</td>\n",
       "      <td>Carlos Ruiz</td>\n",
       "      <td>39</td>\n",
       "      <td>22738</td>\n",
       "      <td>0.171519</td>\n",
       "    </tr>\n",
       "    <tr>\n",
       "      <th>14396</th>\n",
       "      <td>Gold Cup</td>\n",
       "      <td>Landon Donovan</td>\n",
       "      <td>18</td>\n",
       "      <td>1097</td>\n",
       "      <td>1.640839</td>\n",
       "    </tr>\n",
       "    <tr>\n",
       "      <th>14627</th>\n",
       "      <td>NAFC Championship</td>\n",
       "      <td>Luis de la Fuente</td>\n",
       "      <td>3</td>\n",
       "      <td>10</td>\n",
       "      <td>30.000000</td>\n",
       "    </tr>\n",
       "    <tr>\n",
       "      <th>14673</th>\n",
       "      <td>Oceania Nations Cup</td>\n",
       "      <td>Damian Mori</td>\n",
       "      <td>14</td>\n",
       "      <td>534</td>\n",
       "      <td>2.621723</td>\n",
       "    </tr>\n",
       "    <tr>\n",
       "      <th>14927</th>\n",
       "      <td>UEFA Euro</td>\n",
       "      <td>Cristiano Ronaldo</td>\n",
       "      <td>14</td>\n",
       "      <td>829</td>\n",
       "      <td>1.688782</td>\n",
       "    </tr>\n",
       "    <tr>\n",
       "      <th>15885</th>\n",
       "      <td>UEFA Euro qualification</td>\n",
       "      <td>Cristiano Ronaldo</td>\n",
       "      <td>41</td>\n",
       "      <td>7958</td>\n",
       "      <td>0.515205</td>\n",
       "    </tr>\n",
       "    <tr>\n",
       "      <th>18748</th>\n",
       "      <td>UEFA Nations League</td>\n",
       "      <td>Aleksandar Mitrović</td>\n",
       "      <td>14</td>\n",
       "      <td>1184</td>\n",
       "      <td>1.182432</td>\n",
       "    </tr>\n",
       "  </tbody>\n",
       "</table>\n",
       "</div>"
      ],
      "text/plain": [
       "                           tournament                   scorer  goals  \\\n",
       "33                      AFC Asian Cup                 Ali Daei     14   \n",
       "1314           African Cup of Nations             Samuel Eto'o     18   \n",
       "1601                       Baltic Cup          Ēriks Pētersons      9   \n",
       "1611        British Home Championship              Geoff Hurst      4   \n",
       "1623   CONMEBOL–UEFA Cup of Champions         Claudio Caniggia      1   \n",
       "1675               Confederations Cup        Cuauhtémoc Blanco      9   \n",
       "2687                     Copa América  Norberto Doroteo Méndez     17   \n",
       "3932                   FIFA World Cup           Miroslav Klose     16   \n",
       "5891     FIFA World Cup qualification              Carlos Ruiz     39   \n",
       "14396                        Gold Cup           Landon Donovan     18   \n",
       "14627               NAFC Championship        Luis de la Fuente      3   \n",
       "14673             Oceania Nations Cup              Damian Mori     14   \n",
       "14927                       UEFA Euro        Cristiano Ronaldo     14   \n",
       "15885         UEFA Euro qualification        Cristiano Ronaldo     41   \n",
       "18748             UEFA Nations League      Aleksandar Mitrović     14   \n",
       "\n",
       "       total_goals  goal_percentage  \n",
       "33             989         1.415571  \n",
       "1314          1767         1.018676  \n",
       "1601           229         3.930131  \n",
       "1611            33        12.121212  \n",
       "1623             7        14.285714  \n",
       "1675           423         2.127660  \n",
       "2687          2671         0.636466  \n",
       "3932          2720         0.588235  \n",
       "5891         22738         0.171519  \n",
       "14396         1097         1.640839  \n",
       "14627           10        30.000000  \n",
       "14673          534         2.621723  \n",
       "14927          829         1.688782  \n",
       "15885         7958         0.515205  \n",
       "18748         1184         1.182432  "
      ]
     },
     "execution_count": 320,
     "metadata": {},
     "output_type": "execute_result"
    }
   ],
   "source": [
    "top_scorers"
   ]
  },
  {
   "cell_type": "markdown",
   "metadata": {},
   "source": [
    "## Task 6"
   ]
  },
  {
   "cell_type": "markdown",
   "metadata": {},
   "source": [
    "We start by defining a function flag_data_quality_issues which initiates a column of False. We then supply a check to complete, if the check happens to spot an error, the corresponding False becomes True through the |= (bitwise) operation."
   ]
  },
  {
   "cell_type": "code",
   "execution_count": 321,
   "metadata": {},
   "outputs": [],
   "source": [
    "def flag_data_quality_issues(df, checks):\n",
    "    flags = pd.Series(False, index=df.index)\n",
    "    for check in checks:\n",
    "        flags |= check(df)\n",
    "    return flags    "
   ]
  },
  {
   "cell_type": "markdown",
   "metadata": {},
   "source": [
    "We now define our checks for data quality. For the shootouts dataset, we see lots of isues with the first_shooter column. For the results dataset, we call back to that issue involving Saare County and so look for games where the tournament is NaN as a flag. For goalscorers, we check for missing or impossible time data."
   ]
  },
  {
   "cell_type": "code",
   "execution_count": 322,
   "metadata": {},
   "outputs": [],
   "source": [
    "def shootouts_checks(df):\n",
    "    return [\n",
    "        lambda df: df['first_shooter'].isna(),\n",
    "        lambda df: df['winner'].isna(),\n",
    "        lambda df: df['home_team'].isna(),\n",
    "        lambda df: df['away_team'].isna(),  \n",
    "    ]\n",
    "\n",
    "def results_checks(df):\n",
    "    return [\n",
    "        lambda df: df['home_score'].isna() | df['away_score'].isna(),\n",
    "        lambda df: df['tournament'].isna(),\n",
    "        lambda df: df['home_team'].isna(),\n",
    "        lambda df: df['away_team'].isna(), \n",
    "        lambda df: df['tournament'].isna(),\n",
    "        lambda df: df['city'].isna(),\n",
    "        lambda df: df['country'].isna(), \n",
    "        lambda df: df['neutral'].isna(),\n",
    "    ]\n",
    "\n",
    "def goalscorers_checks(df):\n",
    "    return [\n",
    "        lambda df: df['minute'].isna(), \n",
    "        lambda df: df['home_team'].isna(),\n",
    "        lambda df: df['away_team'].isna(), \n",
    "        lambda df: df['team'].isna(),\n",
    "        lambda df: df['scorer'].isna(), \n",
    "        lambda df: df['own_goal'].isna(),\n",
    "        lambda df: df['penalty'].isna(), \n",
    "    ]"
   ]
  },
  {
   "cell_type": "markdown",
   "metadata": {},
   "source": [
    "Define a new column called data_quality_flag which applies the flagging function to the checking functions."
   ]
  },
  {
   "cell_type": "code",
   "execution_count": 323,
   "metadata": {},
   "outputs": [
    {
     "data": {
      "text/html": [
       "<div>\n",
       "<style scoped>\n",
       "    .dataframe tbody tr th:only-of-type {\n",
       "        vertical-align: middle;\n",
       "    }\n",
       "\n",
       "    .dataframe tbody tr th {\n",
       "        vertical-align: top;\n",
       "    }\n",
       "\n",
       "    .dataframe thead th {\n",
       "        text-align: right;\n",
       "    }\n",
       "</style>\n",
       "<table border=\"1\" class=\"dataframe\">\n",
       "  <thead>\n",
       "    <tr style=\"text-align: right;\">\n",
       "      <th></th>\n",
       "      <th>date</th>\n",
       "      <th>home_team</th>\n",
       "      <th>away_team</th>\n",
       "      <th>winner</th>\n",
       "      <th>first_shooter</th>\n",
       "      <th>match_key</th>\n",
       "      <th>data_quality_flag</th>\n",
       "    </tr>\n",
       "  </thead>\n",
       "  <tbody>\n",
       "    <tr>\n",
       "      <th>0</th>\n",
       "      <td>1967-08-22</td>\n",
       "      <td>India</td>\n",
       "      <td>Taiwan</td>\n",
       "      <td>Taiwan</td>\n",
       "      <td>NaN</td>\n",
       "      <td>1967-08-22_India_Taiwan</td>\n",
       "      <td>True</td>\n",
       "    </tr>\n",
       "    <tr>\n",
       "      <th>1</th>\n",
       "      <td>1971-11-14</td>\n",
       "      <td>South Korea</td>\n",
       "      <td>Vietnam Republic</td>\n",
       "      <td>South Korea</td>\n",
       "      <td>NaN</td>\n",
       "      <td>1971-11-14_South Korea_Vietnam Republic</td>\n",
       "      <td>True</td>\n",
       "    </tr>\n",
       "    <tr>\n",
       "      <th>2</th>\n",
       "      <td>1972-05-07</td>\n",
       "      <td>South Korea</td>\n",
       "      <td>Iraq</td>\n",
       "      <td>Iraq</td>\n",
       "      <td>NaN</td>\n",
       "      <td>1972-05-07_South Korea_Iraq</td>\n",
       "      <td>True</td>\n",
       "    </tr>\n",
       "    <tr>\n",
       "      <th>3</th>\n",
       "      <td>1972-05-17</td>\n",
       "      <td>Thailand</td>\n",
       "      <td>South Korea</td>\n",
       "      <td>South Korea</td>\n",
       "      <td>NaN</td>\n",
       "      <td>1972-05-17_Thailand_South Korea</td>\n",
       "      <td>True</td>\n",
       "    </tr>\n",
       "    <tr>\n",
       "      <th>4</th>\n",
       "      <td>1972-05-19</td>\n",
       "      <td>Thailand</td>\n",
       "      <td>Cambodia</td>\n",
       "      <td>Thailand</td>\n",
       "      <td>NaN</td>\n",
       "      <td>1972-05-19_Thailand_Cambodia</td>\n",
       "      <td>True</td>\n",
       "    </tr>\n",
       "  </tbody>\n",
       "</table>\n",
       "</div>"
      ],
      "text/plain": [
       "         date    home_team         away_team       winner first_shooter  \\\n",
       "0  1967-08-22        India            Taiwan       Taiwan           NaN   \n",
       "1  1971-11-14  South Korea  Vietnam Republic  South Korea           NaN   \n",
       "2  1972-05-07  South Korea              Iraq         Iraq           NaN   \n",
       "3  1972-05-17     Thailand       South Korea  South Korea           NaN   \n",
       "4  1972-05-19     Thailand          Cambodia     Thailand           NaN   \n",
       "\n",
       "                                 match_key  data_quality_flag  \n",
       "0                  1967-08-22_India_Taiwan               True  \n",
       "1  1971-11-14_South Korea_Vietnam Republic               True  \n",
       "2              1972-05-07_South Korea_Iraq               True  \n",
       "3          1972-05-17_Thailand_South Korea               True  \n",
       "4             1972-05-19_Thailand_Cambodia               True  "
      ]
     },
     "execution_count": 323,
     "metadata": {},
     "output_type": "execute_result"
    }
   ],
   "source": [
    "shootouts_df['data_quality_flag'] = flag_data_quality_issues(shootouts_df, shootouts_checks(shootouts_df))\n",
    "results_df['data_quality_flag'] = flag_data_quality_issues(results_df, results_checks(results_df))\n",
    "goalscorers_df['data_quality_flag'] = flag_data_quality_issues(goalscorers_df, goalscorers_checks(goalscorers_df))\n",
    "\n",
    "shootouts_df.head()"
   ]
  },
  {
   "cell_type": "markdown",
   "metadata": {},
   "source": [
    "## Task 7"
   ]
  },
  {
   "cell_type": "markdown",
   "metadata": {},
   "source": [
    "Replace NaN values in first shooter column with a message saying 'Not Recorded'; could have replaced it with 0. Update the data quality flag column."
   ]
  },
  {
   "cell_type": "code",
   "execution_count": 324,
   "metadata": {},
   "outputs": [
    {
     "data": {
      "text/html": [
       "<div>\n",
       "<style scoped>\n",
       "    .dataframe tbody tr th:only-of-type {\n",
       "        vertical-align: middle;\n",
       "    }\n",
       "\n",
       "    .dataframe tbody tr th {\n",
       "        vertical-align: top;\n",
       "    }\n",
       "\n",
       "    .dataframe thead th {\n",
       "        text-align: right;\n",
       "    }\n",
       "</style>\n",
       "<table border=\"1\" class=\"dataframe\">\n",
       "  <thead>\n",
       "    <tr style=\"text-align: right;\">\n",
       "      <th></th>\n",
       "      <th>date</th>\n",
       "      <th>home_team</th>\n",
       "      <th>away_team</th>\n",
       "      <th>winner</th>\n",
       "      <th>first_shooter</th>\n",
       "      <th>match_key</th>\n",
       "      <th>data_quality_flag</th>\n",
       "    </tr>\n",
       "  </thead>\n",
       "  <tbody>\n",
       "  </tbody>\n",
       "</table>\n",
       "</div>"
      ],
      "text/plain": [
       "Empty DataFrame\n",
       "Columns: [date, home_team, away_team, winner, first_shooter, match_key, data_quality_flag]\n",
       "Index: []"
      ]
     },
     "execution_count": 324,
     "metadata": {},
     "output_type": "execute_result"
    }
   ],
   "source": [
    "shootouts_df['first_shooter'].fillna('Not Recorded', inplace=True)\n",
    "shootouts_df['data_quality_flag'] = flag_data_quality_issues(shootouts_df, shootouts_checks(shootouts_df))\n",
    "shootouts_df[shootouts_df['data_quality_flag'] == True]"
   ]
  },
  {
   "cell_type": "markdown",
   "metadata": {},
   "source": [
    "We check to see if there are any data quality issues with the results dataframe."
   ]
  },
  {
   "cell_type": "code",
   "execution_count": 325,
   "metadata": {},
   "outputs": [
    {
     "data": {
      "text/html": [
       "<div>\n",
       "<style scoped>\n",
       "    .dataframe tbody tr th:only-of-type {\n",
       "        vertical-align: middle;\n",
       "    }\n",
       "\n",
       "    .dataframe tbody tr th {\n",
       "        vertical-align: top;\n",
       "    }\n",
       "\n",
       "    .dataframe thead th {\n",
       "        text-align: right;\n",
       "    }\n",
       "</style>\n",
       "<table border=\"1\" class=\"dataframe\">\n",
       "  <thead>\n",
       "    <tr style=\"text-align: right;\">\n",
       "      <th></th>\n",
       "      <th>date</th>\n",
       "      <th>home_team</th>\n",
       "      <th>away_team</th>\n",
       "      <th>home_score</th>\n",
       "      <th>away_score</th>\n",
       "      <th>tournament</th>\n",
       "      <th>city</th>\n",
       "      <th>country</th>\n",
       "      <th>neutral</th>\n",
       "      <th>match_key</th>\n",
       "      <th>data_quality_flag</th>\n",
       "    </tr>\n",
       "  </thead>\n",
       "  <tbody>\n",
       "  </tbody>\n",
       "</table>\n",
       "</div>"
      ],
      "text/plain": [
       "Empty DataFrame\n",
       "Columns: [date, home_team, away_team, home_score, away_score, tournament, city, country, neutral, match_key, data_quality_flag]\n",
       "Index: []"
      ]
     },
     "execution_count": 325,
     "metadata": {},
     "output_type": "execute_result"
    }
   ],
   "source": [
    "results_df['data_quality_flag'] = flag_data_quality_issues(results_df, results_checks(results_df))\n",
    "results_df[results_df['data_quality_flag'] == True]"
   ]
  },
  {
   "cell_type": "markdown",
   "metadata": {},
   "source": [
    "We look for rows with data quality issues and replace NaN values with 'Not Recorded'."
   ]
  },
  {
   "cell_type": "code",
   "execution_count": 326,
   "metadata": {},
   "outputs": [
    {
     "data": {
      "text/html": [
       "<div>\n",
       "<style scoped>\n",
       "    .dataframe tbody tr th:only-of-type {\n",
       "        vertical-align: middle;\n",
       "    }\n",
       "\n",
       "    .dataframe tbody tr th {\n",
       "        vertical-align: top;\n",
       "    }\n",
       "\n",
       "    .dataframe thead th {\n",
       "        text-align: right;\n",
       "    }\n",
       "</style>\n",
       "<table border=\"1\" class=\"dataframe\">\n",
       "  <thead>\n",
       "    <tr style=\"text-align: right;\">\n",
       "      <th></th>\n",
       "      <th>date</th>\n",
       "      <th>home_team</th>\n",
       "      <th>away_team</th>\n",
       "      <th>team</th>\n",
       "      <th>scorer</th>\n",
       "      <th>minute</th>\n",
       "      <th>own_goal</th>\n",
       "      <th>penalty</th>\n",
       "      <th>match_key</th>\n",
       "      <th>data_quality_flag</th>\n",
       "    </tr>\n",
       "  </thead>\n",
       "  <tbody>\n",
       "  </tbody>\n",
       "</table>\n",
       "</div>"
      ],
      "text/plain": [
       "Empty DataFrame\n",
       "Columns: [date, home_team, away_team, team, scorer, minute, own_goal, penalty, match_key, data_quality_flag]\n",
       "Index: []"
      ]
     },
     "execution_count": 326,
     "metadata": {},
     "output_type": "execute_result"
    }
   ],
   "source": [
    "goalscorers_df['minute'].fillna('Not Recorded', inplace=True)\n",
    "goalscorers_df['scorer'].fillna('Not Recorded', inplace=True)\n",
    "goalscorers_df['own_goal'].fillna('Not Recorded', inplace=True)\n",
    "goalscorers_df['penalty'].fillna('Not Recorded', inplace=True)\n",
    "goalscorers_df['data_quality_flag'] = flag_data_quality_issues(goalscorers_df, goalscorers_checks(goalscorers_df))\n",
    "goalscorers_df[goalscorers_df['data_quality_flag'] == True]"
   ]
  }
 ],
 "metadata": {
  "kernelspec": {
   "display_name": "base",
   "language": "python",
   "name": "python3"
  },
  "language_info": {
   "codemirror_mode": {
    "name": "ipython",
    "version": 3
   },
   "file_extension": ".py",
   "mimetype": "text/x-python",
   "name": "python",
   "nbconvert_exporter": "python",
   "pygments_lexer": "ipython3",
   "version": "3.11.3"
  }
 },
 "nbformat": 4,
 "nbformat_minor": 2
}
